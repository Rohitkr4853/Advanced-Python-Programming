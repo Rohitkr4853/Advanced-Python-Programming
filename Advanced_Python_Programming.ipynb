{
  "nbformat": 4,
  "nbformat_minor": 0,
  "metadata": {
    "colab": {
      "name": "Advanced Python Programming.ipynb",
      "provenance": [],
      "collapsed_sections": [],
      "authorship_tag": "ABX9TyMMAnXp+0uUa3gJQfACjK0Y",
      "include_colab_link": true
    },
    "kernelspec": {
      "name": "python3",
      "display_name": "Python 3"
    },
    "language_info": {
      "name": "python"
    }
  },
  "cells": [
    {
      "cell_type": "markdown",
      "metadata": {
        "id": "view-in-github",
        "colab_type": "text"
      },
      "source": [
        "<a href=\"https://colab.research.google.com/github/Rohitkr4853/Advanced-Python-Programming/blob/main/Advanced_Python_Programming.ipynb\" target=\"_parent\"><img src=\"https://colab.research.google.com/assets/colab-badge.svg\" alt=\"Open In Colab\"/></a>"
      ]
    },
    {
      "cell_type": "markdown",
      "source": [
        "LIST:\n",
        "Lists in Python can be created by just placing the sequence inside the square brackets[].\n",
        "A list may contain duplicate values with their distinct positions and hence, multiple distinct or duplicate values can be passed as a sequence at the time of list creation.\n",
        "Elements can be added to the List by using the built-in append() function.\n",
        "In order to access the list items refer to the index number.\n",
        "In Python, negative sequence indexes represent positions from the end of the list. "
      ],
      "metadata": {
        "id": "zlGgkfA1PYi5"
      }
    },
    {
      "cell_type": "code",
      "source": [
        "#list \n",
        "x=[8,9,2,7]\n",
        "print(x)\n",
        "y=x.pop()\n",
        "z=x.remove(2)\n",
        "print(y)\n",
        "print(x)\n",
        "x.reverse()\n",
        "print(x)\n",
        "x.sort()\n",
        "print(x)\n",
        "new_list=[0]*5  #no. of times need to repeat\n",
        "print(new_list)\n",
        "mylist=[1,2,3,4,5,6,7,8,9]\n",
        "a=mylist[1:5]  #index from where we want to inert value \n",
        "print(a)\n",
        "b=mylist[::2] #take no. with gap of given value \n",
        "print(b)\n",
        "list_org=[2,8,9]\n",
        "list_cpy=list_org\n",
        "list_cpy.append(11)\n",
        "print(list_cpy)\n",
        "print(list_org) #give same output because they point on same address\n",
        "list_ch=[1,2,3,4,5]\n",
        "list_sq=[i*i for i in list_ch]\n",
        "print(list_ch)\n",
        "print(list_sq)"
      ],
      "metadata": {
        "colab": {
          "base_uri": "https://localhost:8080/"
        },
        "id": "-DDnssknP9Je",
        "outputId": "cc3fef17-0bb3-4efa-e844-01687e960f7c"
      },
      "execution_count": null,
      "outputs": [
        {
          "output_type": "stream",
          "name": "stdout",
          "text": [
            "[8, 9, 2, 7]\n",
            "7\n",
            "[8, 9]\n",
            "[9, 8]\n",
            "[8, 9]\n",
            "[0, 0, 0, 0, 0]\n",
            "[2, 3, 4, 5]\n",
            "[1, 3, 5, 7, 9]\n",
            "[2, 8, 9, 11]\n",
            "[2, 8, 9, 11]\n",
            "[1, 2, 3, 4, 5]\n",
            "[1, 4, 9, 16, 25]\n"
          ]
        }
      ]
    },
    {
      "cell_type": "markdown",
      "source": [
        "**TUPLE :** \n",
        "A Tuple is a collection of Python objects separated by commas.In someways a tuple is similar to a list in terms of indexing, nested objects and repetition but a tuple is immutable unlike lists which are mutable."
      ],
      "metadata": {
        "id": "lTHAeSegTfow"
      }
    },
    {
      "cell_type": "code",
      "source": [
        "#Tuple\n",
        "mytuple={} #created like this \n",
        "my_tuple={\"rohit\",48,\"hello\"}\n",
        "print(my_tuple)\n",
        "for i in my_tuple:\n",
        "  print(i)\n",
        "\n",
        "if \"rohit\" in my_tuple: #check \n",
        "  print(\"yes\")\n",
        "print(len(my_tuple)) #length\n",
        "my_list=list(my_tuple) #convert tupe in list\n",
        "print(my_list)\n",
        "my_list[1]=42   #here by converting tuple in list we can able to change the value\n",
        "print(my_list)\n",
        "a=(1,2,3,4,5,6,7,8,9)\n",
        "b=a[2:5]\n",
        "print(b)\n"
      ],
      "metadata": {
        "colab": {
          "base_uri": "https://localhost:8080/"
        },
        "id": "-BeOokpGThlh",
        "outputId": "9f0f6115-20fe-4322-97c7-f65b9ada904d"
      },
      "execution_count": null,
      "outputs": [
        {
          "output_type": "stream",
          "name": "stdout",
          "text": [
            "{48, 'hello', 'rohit'}\n",
            "48\n",
            "hello\n",
            "rohit\n",
            "yes\n",
            "3\n",
            "[48, 'hello', 'rohit']\n",
            "[48, 42, 'rohit']\n",
            "(3, 4, 5)\n"
          ]
        }
      ]
    },
    {
      "cell_type": "markdown",
      "source": [
        "**DICTIONARY :**\n",
        "\n",
        "Dictionary in Python is an unordered collection of data values, used to store data values like a map, which, unlike other Data Types that hold only a single value as an element, Dictionary holds key:value pair. Key-value is provided in the dictionary to make it more optimized.\n",
        "In Python, a Dictionary can be created by placing a sequence of elements within curly {} braces.\n",
        "Dictionary can also be created by the built-in function dict(). An empty dictionary can be created by just placing to curly braces{}. "
      ],
      "metadata": {
        "id": "qDRAu_qPA6ow"
      }
    },
    {
      "cell_type": "code",
      "source": [
        "#dictonary\n",
        "mydict={\"name\":\"rohit\",\"age\":21,\"city\":\"bettiah\"}\n",
        "print(mydict)\n",
        "mydict2=dict(name=\"rohit\",age=21,city=\"bettiah\") #way to define dictonary \n",
        "print(mydict2)\n",
        "value=mydict[\"name\"]\n",
        "print(value)\n",
        "mydict[\"address\"]=\"raxaul\"\n",
        "print(mydict)\n",
        "del mydict[\"address\"]  #delelt the element\n",
        "print(mydict)\n",
        "for key,value in mydict.items():\n",
        "  print(key,value)\n"
      ],
      "metadata": {
        "colab": {
          "base_uri": "https://localhost:8080/"
        },
        "id": "-RiV-iisqkEV",
        "outputId": "751ceb49-5ad5-473b-8652-2339e18371d9"
      },
      "execution_count": 12,
      "outputs": [
        {
          "output_type": "stream",
          "name": "stdout",
          "text": [
            "{'name': 'rohit', 'age': 21, 'city': 'bettiah'}\n",
            "{'name': 'rohit', 'age': 21, 'city': 'bettiah'}\n",
            "rohit\n",
            "{'name': 'rohit', 'age': 21, 'city': 'bettiah', 'address': 'raxaul'}\n",
            "{'name': 'rohit', 'age': 21, 'city': 'bettiah'}\n",
            "name rohit\n",
            "age 21\n",
            "city bettiah\n"
          ]
        }
      ]
    },
    {
      "cell_type": "markdown",
      "source": [
        "**SETS :**\n",
        " A Set is an unordered collection data type that is iterable, mutable and has no duplicate elements. Python’s set class represents the mathematical notion of a set. The major advantage of using a set, as opposed to a list, is that it has a highly optimized method for checking whether a specific element is contained in the set. "
      ],
      "metadata": {
        "id": "60YHAf4XxXab"
      }
    }
  ]
}