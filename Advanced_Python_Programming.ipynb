{
  "nbformat": 4,
  "nbformat_minor": 0,
  "metadata": {
    "colab": {
      "name": "Advanced Python Programming.ipynb",
      "provenance": [],
      "collapsed_sections": [],
      "authorship_tag": "ABX9TyOyYruTjBm5ltK78e9Jx3n0",
      "include_colab_link": true
    },
    "kernelspec": {
      "name": "python3",
      "display_name": "Python 3"
    },
    "language_info": {
      "name": "python"
    }
  },
  "cells": [
    {
      "cell_type": "markdown",
      "metadata": {
        "id": "view-in-github",
        "colab_type": "text"
      },
      "source": [
        "<a href=\"https://colab.research.google.com/github/Rohitkr4853/Advanced-Python-Programming/blob/main/Advanced_Python_Programming.ipynb\" target=\"_parent\"><img src=\"https://colab.research.google.com/assets/colab-badge.svg\" alt=\"Open In Colab\"/></a>"
      ]
    },
    {
      "cell_type": "markdown",
      "source": [
        "LIST:\n",
        "Lists in Python can be created by just placing the sequence inside the square brackets[].\n",
        "A list may contain duplicate values with their distinct positions and hence, multiple distinct or duplicate values can be passed as a sequence at the time of list creation.\n",
        "Elements can be added to the List by using the built-in append() function.\n",
        "In order to access the list items refer to the index number.\n",
        "In Python, negative sequence indexes represent positions from the end of the list. "
      ],
      "metadata": {
        "id": "zlGgkfA1PYi5"
      }
    },
    {
      "cell_type": "code",
      "source": [
        "#list \n",
        "x=[8,9,2,7]\n",
        "print(x)\n",
        "y=x.pop()\n",
        "z=x.remove(2)\n",
        "print(y)\n",
        "print(x)\n",
        "x.reverse()\n",
        "print(x)\n",
        "x.sort()\n",
        "print(x)\n",
        "new_list=[0]*5  #no. of times need to repeat\n",
        "print(new_list)\n",
        "mylist=[1,2,3,4,5,6,7,8,9]\n",
        "a=mylist[1:5]  #index from where we want to inert value \n",
        "print(a)\n",
        "b=mylist[::2] #take no. with gap of given value \n",
        "print(b)\n",
        "list_org=[2,8,9]\n",
        "list_cpy=list_org\n",
        "list_cpy.append(11)\n",
        "print(list_cpy)\n",
        "print(list_org) #give same output because they point on same address\n",
        "list_ch=[1,2,3,4,5]\n",
        "list_sq=[i*i for i in list_ch]\n",
        "print(list_ch)\n",
        "print(list_sq)"
      ],
      "metadata": {
        "colab": {
          "base_uri": "https://localhost:8080/"
        },
        "id": "-DDnssknP9Je",
        "outputId": "cc3fef17-0bb3-4efa-e844-01687e960f7c"
      },
      "execution_count": null,
      "outputs": [
        {
          "output_type": "stream",
          "name": "stdout",
          "text": [
            "[8, 9, 2, 7]\n",
            "7\n",
            "[8, 9]\n",
            "[9, 8]\n",
            "[8, 9]\n",
            "[0, 0, 0, 0, 0]\n",
            "[2, 3, 4, 5]\n",
            "[1, 3, 5, 7, 9]\n",
            "[2, 8, 9, 11]\n",
            "[2, 8, 9, 11]\n",
            "[1, 2, 3, 4, 5]\n",
            "[1, 4, 9, 16, 25]\n"
          ]
        }
      ]
    },
    {
      "cell_type": "markdown",
      "source": [
        "**TUPLE :** \n",
        "A Tuple is a collection of Python objects separated by commas.In someways a tuple is similar to a list in terms of indexing, nested objects and repetition but a tuple is immutable unlike lists which are mutable."
      ],
      "metadata": {
        "id": "lTHAeSegTfow"
      }
    },
    {
      "cell_type": "code",
      "source": [
        "#Tuple\n",
        "mytuple={} #created like this \n",
        "my_tuple={\"rohit\",48,\"hello\"}\n",
        "print(my_tuple)\n",
        "for i in my_tuple:\n",
        "  print(i)\n",
        "\n",
        "if \"rohit\" in my_tuple: #check \n",
        "  print(\"yes\")\n",
        "print(len(my_tuple)) #length\n",
        "my_list=list(my_tuple) #convert tupe in list\n",
        "print(my_list)\n",
        "my_list[1]=42   #here by converting tuple in list we can able to change the value\n",
        "print(my_list)\n",
        "a=(1,2,3,4,5,6,7,8,9)\n",
        "b=a[2:5]\n",
        "print(b)\n"
      ],
      "metadata": {
        "colab": {
          "base_uri": "https://localhost:8080/"
        },
        "id": "-BeOokpGThlh",
        "outputId": "9f0f6115-20fe-4322-97c7-f65b9ada904d"
      },
      "execution_count": null,
      "outputs": [
        {
          "output_type": "stream",
          "name": "stdout",
          "text": [
            "{48, 'hello', 'rohit'}\n",
            "48\n",
            "hello\n",
            "rohit\n",
            "yes\n",
            "3\n",
            "[48, 'hello', 'rohit']\n",
            "[48, 42, 'rohit']\n",
            "(3, 4, 5)\n"
          ]
        }
      ]
    },
    {
      "cell_type": "markdown",
      "source": [
        "**DICTIONARY :**\n",
        "\n",
        "Dictionary in Python is an unordered collection of data values, used to store data values like a map, which, unlike other Data Types that hold only a single value as an element, Dictionary holds key:value pair. Key-value is provided in the dictionary to make it more optimized.\n",
        "In Python, a Dictionary can be created by placing a sequence of elements within curly {} braces.\n",
        "Dictionary can also be created by the built-in function dict(). An empty dictionary can be created by just placing to curly braces{}. "
      ],
      "metadata": {
        "id": "qDRAu_qPA6ow"
      }
    },
    {
      "cell_type": "code",
      "source": [
        "#dictonary\n",
        "mydict={\"name\":\"rohit\",\"age\":21,\"city\":\"bettiah\"}\n",
        "print(mydict)\n",
        "mydict2=dict(name=\"rohit\",age=21,city=\"bettiah\") #way to define dictonary \n",
        "print(mydict2)\n",
        "value=mydict[\"name\"]\n",
        "print(value)\n",
        "mydict[\"address\"]=\"raxaul\"\n",
        "print(mydict)\n",
        "del mydict[\"address\"]  #delelt the element\n",
        "print(mydict)\n",
        "for key,value in mydict.items():\n",
        "  print(key,value)\n"
      ],
      "metadata": {
        "colab": {
          "base_uri": "https://localhost:8080/"
        },
        "id": "-RiV-iisqkEV",
        "outputId": "751ceb49-5ad5-473b-8652-2339e18371d9"
      },
      "execution_count": null,
      "outputs": [
        {
          "output_type": "stream",
          "name": "stdout",
          "text": [
            "{'name': 'rohit', 'age': 21, 'city': 'bettiah'}\n",
            "{'name': 'rohit', 'age': 21, 'city': 'bettiah'}\n",
            "rohit\n",
            "{'name': 'rohit', 'age': 21, 'city': 'bettiah', 'address': 'raxaul'}\n",
            "{'name': 'rohit', 'age': 21, 'city': 'bettiah'}\n",
            "name rohit\n",
            "age 21\n",
            "city bettiah\n"
          ]
        }
      ]
    },
    {
      "cell_type": "markdown",
      "source": [
        "**SETS :**\n",
        " A Set is an unordered collection data type that is iterable, mutable and has no duplicate elements. Python’s set class represents the mathematical notion of a set. The major advantage of using a set, as opposed to a list, is that it has a highly optimized method for checking whether a specific element is contained in the set. "
      ],
      "metadata": {
        "id": "60YHAf4XxXab"
      }
    },
    {
      "cell_type": "code",
      "source": [
        "#sets\n",
        "my_set = {\"apple\", \"banana\", \"cherry\"}\n",
        "print(my_set)\n",
        "\n",
        "# or use the set function and create from an iterable, e.g. list, tuple, string\n",
        "my_set_2 = set([\"one\", \"two\", \"three\"])\n",
        "my_set_2 = set((\"one\", \"two\", \"three\"))\n",
        "print(my_set_2)\n",
        "\n",
        "my_set_3 = set(\"aaabbbcccdddeeeeeffff\")\n",
        "print(my_set_3)\n",
        "\n",
        "# careful: an empty set cannot be created with {}, as this is interpreted as dict\n",
        "# use set() instead\n",
        "a = {}\n",
        "print(type(a))\n",
        "a = set()\n",
        "print(type(a))\n",
        "odds = {1, 3, 5, 7, 9}\n",
        "evens = {0, 2, 4, 6, 8}\n",
        "primes = {2, 3, 5, 7}\n",
        "\n",
        "u = odds.union(evens) # union() : combine elements from both sets, no duplication\n",
        "print(u)\n",
        "\n",
        "i = odds.intersection(evens)# intersection take elements that are in both sets\n",
        "\n",
        "print(i)\n",
        "\n",
        "i = odds.intersection(primes)\n",
        "print(i)\n",
        "\n",
        "i = evens.intersection(primes)\n",
        "print(i)\n",
        "\n",
        "setA = {1, 2, 3, 4, 5, 6, 7, 8, 9}\n",
        "setB = {1, 2, 3, 10, 11, 12}\n",
        "diff_set = setA.difference(setB) #it checks difference\n",
        "print(diff_set)\n",
        "diff_set = setA.symmetric_difference(setB) #it will all element from both set except common element\n",
        "print(diff_set)\n",
        "\n",
        "setA.update(setB) #this will update without duplication\n",
        "print(setA)\n",
        "\n",
        "setA.intersection_update(setB) #it will update only element which is common\n",
        "print(setA)\n",
        "\n",
        "setC = {1, 2, 3, 4, 5, 6}\n",
        "setD = {1, 2, 3}\n",
        "print(setC.issubset(setD)) #it will if it is subset or not\n",
        "print(setD.issubset(setC))\n"
      ],
      "metadata": {
        "colab": {
          "base_uri": "https://localhost:8080/"
        },
        "id": "zfhIBgkNWMTM",
        "outputId": "ac3fe4a9-64b5-4f97-af84-32d67fa3553c"
      },
      "execution_count": 6,
      "outputs": [
        {
          "output_type": "stream",
          "name": "stdout",
          "text": [
            "{'banana', 'cherry', 'apple'}\n",
            "{'one', 'two', 'three'}\n",
            "{'c', 'f', 'e', 'a', 'b', 'd'}\n",
            "<class 'dict'>\n",
            "<class 'set'>\n",
            "{0, 1, 2, 3, 4, 5, 6, 7, 8, 9}\n",
            "set()\n",
            "{3, 5, 7}\n",
            "{2}\n",
            "{4, 5, 6, 7, 8, 9}\n",
            "{4, 5, 6, 7, 8, 9, 10, 11, 12}\n",
            "{1, 2, 3, 4, 5, 6, 7, 8, 9, 10, 11, 12}\n",
            "{1, 2, 3, 10, 11, 12}\n",
            "False\n",
            "True\n"
          ]
        }
      ]
    },
    {
      "cell_type": "markdown",
      "source": [
        "**STRING :**\n",
        "In Python, string is an immutable sequence data type. It is the sequence of Unicode characters wrapped inside single, double, or triple quotes. "
      ],
      "metadata": {
        "id": "X6UrD2a7Z2RG"
      }
    },
    {
      "cell_type": "code",
      "source": [
        "#string\n",
        "my_string = 'Hello'\n",
        "my_string = \"Hello\"\n",
        "my_string = \"I' m  a 'Geek'\"\n",
        "\n",
        "\n",
        "my_string = 'I\\' m  a \"Geek\"'  # escaping backslash\n",
        "my_string = 'I\\' m a \\'Geek\\''\n",
        "print(my_string)\n",
        "\n",
        "\n",
        "my_string = \"\"\"Hello \n",
        "World\"\"\"   # triple quotes for multiline strings\n",
        "print(my_string)\n",
        "\n",
        "my_string = \"Hello \\\n",
        "World\"    # backslash continue in the next line\n",
        "print(my_string)\n",
        "\n",
        "my_string = \"Hello World\"\n",
        "b = my_string[::-1] # reverse the string with a negative step\n",
        "print(b)\n",
        "\n",
        "my_string = \"     Hello World \"\n",
        "\n",
        "\n",
        "my_string = my_string.strip() # remove white space\n",
        "print(my_string)\n",
        "\n",
        "\n",
        "print(my_string.upper()) # Upper and lower cases\n",
        "print(my_string.lower())\n",
        "\n",
        "\n",
        "print(\"hello\".startswith(\"he\")) # startswith and endswith\n",
        "print(\"hello\".endswith(\"llo\"))\n",
        "\n",
        "\n",
        "print(\"Hello\".find(\"o\")) # find first index of a given substring, -1 otherwise\n",
        "\n",
        "\n",
        "print(\"Hello\".count(\"e\")) # count number of characters/substrings\n",
        "\n",
        " \n",
        "\n",
        "message = \"Hello World\"\n",
        "new_message = message.replace(\"World\", \"Universe\") # replace a substring with another string\n",
        "print(new_message)\n",
        "\n",
        "# split the string into a list\n",
        "my_string = \"how are you doing\"\n",
        "a = my_string.split() # default argument is \" \"\n",
        "print(a)\n",
        "my_string = \"one,two,three\"\n",
        "a = my_string.split(\",\")\n",
        "print(a)\n",
        "\n",
        "\n",
        "my_list = ['How', 'are', 'you', 'doing']\n",
        "a = ' '.join(my_list)  # join elements of a list into a string\n",
        "print(a)"
      ],
      "metadata": {
        "colab": {
          "base_uri": "https://localhost:8080/"
        },
        "id": "_gkBfsW3aPrP",
        "outputId": "cc82b3b1-e7a7-4c7a-d734-c9510d849f4a"
      },
      "execution_count": 9,
      "outputs": [
        {
          "output_type": "stream",
          "name": "stdout",
          "text": [
            "I' m a 'Geek'\n",
            "Hello \n",
            "World\n",
            "Hello World\n",
            "dlroW olleH\n",
            "Hello World\n",
            "HELLO WORLD\n",
            "hello world\n",
            "True\n",
            "True\n",
            "4\n",
            "1\n",
            "Hello Universe\n",
            "['how', 'are', 'you', 'doing']\n",
            "['one', 'two', 'three']\n",
            "How are you doing\n"
          ]
        }
      ]
    },
    {
      "cell_type": "markdown",
      "source": [
        "**COLLECTIONS :**\n",
        "The collection Module in Python provides different types of containers. A Container is an object that is used to store different objects and provide a way to access the contained objects and iterate over them. Some of the built-in containers are Tuple, List, Dictionary, etc.\n",
        "The following tools exist:\n",
        "\n",
        "* namedtuple : factory function for creating tuple subclasses with named fields\n",
        "* OrderedDict : dict subclass that remembers the order entries were added\n",
        "* Counter : dict subclass for counting hashable objects\n",
        "* defaultdict : dict subclass that calls a factory function to supply missing values\n",
        "* deque : list-like container with fast appends and pops on either end\n"
      ],
      "metadata": {
        "id": "Ojx3ntCCc9I0"
      }
    },
    {
      "cell_type": "code",
      "source": [
        "#collections\n",
        "from collections import Counter\n",
        "a = \"aaaaabbbbcccdde\"\n",
        "my_counter = Counter(a)\n",
        "print(my_counter)\n",
        "\n",
        "print(my_counter.items())\n",
        "print(my_counter.keys())\n",
        "print(my_counter.values())\n",
        "\n",
        "my_list = [0, 1, 0, 1, 2, 1, 1, 3, 2, 3, 2, 4]\n",
        "my_counter = Counter(my_list)\n",
        "print(my_counter)\n",
        "\n",
        "\n",
        "print(my_counter.most_common(1)) # most common items\n",
        "print(list(my_counter.elements())) # Elements are returned in arbitrary order.\n",
        "#namedtuple\n",
        "from collections import namedtuple\n",
        "# create a namedtuple with its class name as string and its fields as string\n",
        "Point = namedtuple('Point','x, y')\n",
        "pt = Point(1, -4)\n",
        "print(pt)\n",
        "print(pt._fields)\n",
        "print(type(pt))\n",
        "print(pt.x, pt.y)\n",
        "\n",
        "Person = namedtuple('Person','name, age')\n",
        "friend = Person(name='Tom', age=25)\n",
        "print(friend.name, friend.age)\n",
        "\n",
        "#orderdict\n",
        "from collections import OrderedDict\n",
        "ordered_dict = OrderedDict()\n",
        "ordered_dict['a'] = 1\n",
        "ordered_dict['b'] = 2\n",
        "ordered_dict['c'] = 3\n",
        "ordered_dict['d'] = 4\n",
        "ordered_dict['e'] = 5\n",
        "print(ordered_dict)\n",
        "for k, v in ordinary_dict.items():\n",
        "    print(k, v)\n",
        "\n",
        "#defaultdict\n",
        "from collections import defaultdict\n",
        "\n",
        "# initialize with a default integer value, i.e 0\n",
        "d = defaultdict(int)\n",
        "d['yellow'] = 1\n",
        "d['blue'] = 2\n",
        "print(d.items())\n",
        "print(d['green'])\n",
        "\n",
        "#deque\n",
        "from collections import deque\n",
        "d = deque()\n",
        "d.append('a') #  add elements to the right end \n",
        "d.append('b')\n",
        "print(d)\n",
        "\n",
        "d.clear() #  remove all elements\n",
        "print(d)\n",
        "d = deque(['a', 'b', 'c', 'd'])\n",
        "\n",
        "d.extend(['e', 'f', 'g']) # extend at right or left side\n",
        "d.extendleft(['h', 'i', 'j']) \n",
        "print(d)\n",
        "\n",
        "d.rotate(1) # rotate 1 positions to the right\n",
        "print(d)\n"
      ],
      "metadata": {
        "colab": {
          "base_uri": "https://localhost:8080/"
        },
        "id": "jJzXmpt1dlxq",
        "outputId": "b6cb8574-e1b1-495c-90b8-ab0bf992aa8b"
      },
      "execution_count": 18,
      "outputs": [
        {
          "output_type": "stream",
          "name": "stdout",
          "text": [
            "Counter({'a': 5, 'b': 4, 'c': 3, 'd': 2, 'e': 1})\n",
            "dict_items([('a', 5), ('b', 4), ('c', 3), ('d', 2), ('e', 1)])\n",
            "dict_keys(['a', 'b', 'c', 'd', 'e'])\n",
            "dict_values([5, 4, 3, 2, 1])\n",
            "Counter({1: 4, 2: 3, 0: 2, 3: 2, 4: 1})\n",
            "[(1, 4)]\n",
            "[0, 0, 1, 1, 1, 1, 2, 2, 2, 3, 3, 4]\n",
            "Point(x=1, y=-4)\n",
            "('x', 'y')\n",
            "<class '__main__.Point'>\n",
            "1 -4\n",
            "Tom 25\n",
            "OrderedDict([('a', 1), ('b', 2), ('c', 3), ('d', 4), ('e', 5)])\n",
            "a 1\n",
            "b 2\n",
            "c 3\n",
            "d 4\n",
            "e 5\n",
            "dict_items([('yellow', 1), ('blue', 2)])\n",
            "0\n",
            "deque(['a', 'b'])\n",
            "deque([])\n",
            "deque(['j', 'i', 'h', 'a', 'b', 'c', 'd', 'e', 'f', 'g'])\n",
            "deque(['g', 'j', 'i', 'h', 'a', 'b', 'c', 'd', 'e', 'f'])\n"
          ]
        }
      ]
    },
    {
      "cell_type": "markdown",
      "source": [
        "**ITERTOOLS :**\n",
        "Python’s Itertool is a module that provides various functions that work on iterators to produce complex iterators. This module works as a fast, memory-efficient tool that is used either by themselves or in combination to form"
      ],
      "metadata": {
        "id": "5XVYmm1IgmeS"
      }
    },
    {
      "cell_type": "code",
      "source": [
        "#itertools\n",
        "from itertools import product\n",
        "\n",
        "prod = product([1, 2], [3, 4])\n",
        "print(list(prod)) #we convert the iterator to a list for printing\n",
        "\n",
        " \n",
        "prod = product([1, 2], [3], repeat=2) # to allow the product of an iterable with itself\n",
        "print(list(prod)) \n",
        "#permutation\n",
        "from itertools import permutations\n",
        "\n",
        "perm = permutations([1, 2, 3])\n",
        "print(list(perm))\n",
        "\n",
        "#combination\n",
        "from itertools import combinations, combinations_with_replacement\n",
        "comb = combinations([1, 2, 3, 4], 2)\n",
        "print(list(comb))\n",
        "\n",
        "comb = combinations_with_replacement([1, 2, 3, 4], 2)\n",
        "print(list(comb))\n",
        "\n",
        "from itertools import accumulate\n",
        "acc = accumulate([1,2,3,4]) # return accumulated sums\n",
        "print(list(acc))\n",
        "\n",
        "from itertools import count, cycle, repeat\n",
        "for i in count(10):\n",
        "    print(i)\n",
        "    if  i >= 13:\n",
        "        break\n",
        "sum = 0\n",
        "for i in cycle([1, 2, 3]): #  cycle infinitely through an iterable\n",
        "    print(i)\n",
        "    sum += i\n",
        "    if sum >= 12:\n",
        "        break\n",
        "for i in repeat(\"A\", 3): # repeat x infinitely or n times\n",
        "    print(i)"
      ],
      "metadata": {
        "colab": {
          "base_uri": "https://localhost:8080/"
        },
        "id": "qgI_Qb_Fg6lL",
        "outputId": "70859999-0f95-41d1-acd7-b51204b8e562"
      },
      "execution_count": 21,
      "outputs": [
        {
          "output_type": "stream",
          "name": "stdout",
          "text": [
            "[(1, 3), (1, 4), (2, 3), (2, 4)]\n",
            "[(1, 3, 1, 3), (1, 3, 2, 3), (2, 3, 1, 3), (2, 3, 2, 3)]\n",
            "[(1, 2, 3), (1, 3, 2), (2, 1, 3), (2, 3, 1), (3, 1, 2), (3, 2, 1)]\n",
            "[(1, 2), (1, 3), (1, 4), (2, 3), (2, 4), (3, 4)]\n",
            "[(1, 1), (1, 2), (1, 3), (1, 4), (2, 2), (2, 3), (2, 4), (3, 3), (3, 4), (4, 4)]\n",
            "[1, 3, 6, 10]\n",
            "10\n",
            "11\n",
            "12\n",
            "13\n",
            "1\n",
            "2\n",
            "3\n",
            "1\n",
            "2\n",
            "3\n",
            "A\n",
            "A\n",
            "A\n"
          ]
        }
      ]
    },
    {
      "cell_type": "markdown",
      "source": [
        "**LAMBDA :**\n",
        "A lambda function is a small anonymous function.\n",
        "\n",
        "A lambda function can take any number of arguments, but can only have one expression."
      ],
      "metadata": {
        "id": "ELNlQnfzoBgA"
      }
    },
    {
      "cell_type": "code",
      "source": [
        "#lambda\n",
        "f = lambda x: x+10\n",
        "val1 = f(5)\n",
        "val2 = f(100)\n",
        "print(val1, val2)\n",
        "\n",
        "def myfunc(n):\n",
        "    return lambda x: x * n\n",
        "\n",
        "doubler = myfunc(2)\n",
        "print(doubler(6))\n",
        "\n",
        "mylist = [- 1, -4, -2, -3, 1, 2, 3, 4]\n",
        "sorted_by_abs = sorted(mylist, key= lambda x: abs(x))\n",
        "print(sorted_by_abs)\n",
        "a  = [1, 2, 3, 4, 5, 6]\n",
        "b = list(map(lambda x: x * 2 , a))\n",
        "print(b)\n",
        "\n",
        "a = [1, 2, 3, 4, 5, 6, 7, 8]\n",
        "b = list(filter(lambda x: (x%2 == 0) , a))\n",
        "print(b)\n",
        "\n",
        "from functools import reduce\n",
        "a = [1, 2, 3, 4]\n",
        "product_a = reduce(lambda x, y: x*y, a)\n",
        "print(product_a)"
      ],
      "metadata": {
        "colab": {
          "base_uri": "https://localhost:8080/"
        },
        "id": "Cx1a2xWIoTDz",
        "outputId": "8073637a-640c-4b91-f36e-cdb408259450"
      },
      "execution_count": 27,
      "outputs": [
        {
          "output_type": "stream",
          "name": "stdout",
          "text": [
            "15 110\n",
            "12\n",
            "[-1, 1, -2, 2, -3, 3, -4, 4]\n",
            "[2, 4, 6, 8, 10, 12]\n",
            "[2, 4, 6, 8]\n",
            "24\n"
          ]
        }
      ]
    },
    {
      "cell_type": "markdown",
      "source": [
        "**EXCEPTIONS :**\n"
      ],
      "metadata": {
        "id": "c6JGGmuVpKt2"
      }
    },
    {
      "cell_type": "code",
      "source": [
        "#handling exceptions\n",
        "try:\n",
        "    a = 5 / 0\n",
        "except:\n",
        "    print('some error occured.')\n",
        "\n",
        "try:\n",
        "    a = 5 / 0\n",
        "except Exception as e:\n",
        "    print(e)\n",
        "\n",
        "try:\n",
        "    a = 5 / 1\n",
        "except ZeroDivisionError as e:\n",
        "    print('A ZeroDivisionError occured:', e)\n",
        "else:\n",
        "    print('Everything is ok')  #else statement if no exception occured."
      ],
      "metadata": {
        "colab": {
          "base_uri": "https://localhost:8080/"
        },
        "id": "1KVlXfpgpgTz",
        "outputId": "3cf345fe-b75b-4efb-cf89-c320e49af119"
      },
      "execution_count": 31,
      "outputs": [
        {
          "output_type": "stream",
          "name": "stdout",
          "text": [
            "some error occured.\n",
            "division by zero\n",
            "Everything is ok\n"
          ]
        }
      ]
    },
    {
      "cell_type": "markdown",
      "source": [
        "**LOGGING :**\n",
        "Logging is a very useful tool in a programmer’s toolbox. It can help you develop a better understanding of the flow of a program and discover scenarios that you might not even have thought of while developing.By logging useful data from the right places, you can not only debug errors easily but also use the data to analyze the performance of the application to plan for scaling or look at usage patterns to plan for marketing.\n",
        "\n",
        "Python provides a logging system as a part of its standard library, so you can quickly add logging to your application."
      ],
      "metadata": {
        "id": "9thl6VLCqmrJ"
      }
    },
    {
      "cell_type": "code",
      "source": [
        "#logging\n",
        "import logging\n",
        "logging.basicConfig(level=logging.DEBUG, format='%(asctime)s - %(name)s - %(levelname)s - %(message)s', datefmt='%m/%d/%Y %H:%M:%S')\n",
        "\n",
        "logging.debug('This is a debug message')\n",
        "logging.info('This is an info message')\n",
        "logging.warning('This is a warning message')\n",
        "logging.error('This is an error message')\n",
        "logging.critical('This is a critical message')\n",
        "logging.debug('Debug message')\n",
        "\n",
        "#create own logger\n",
        "import logging\n",
        "logger = logging.getLogger(__name__)\n",
        "logger.info('HELLO')\n",
        "\n",
        "import logging\n",
        "logging.basicConfig(level=logging.INFO, format='%(name)s - %(levelname)s - %(message)s')\n",
        "import helper\n",
        "\n",
        "import logging\n",
        "from pythonjsonlogger import jsonlogger\n",
        "\n",
        "logger = logging.getLogger()\n",
        "\n",
        "logHandler = logging.StreamHandler()\n",
        "formatter = jsonlogger.JsonFormatter()\n",
        "logHandler.setFormatter(formatter)\n",
        "logger.addHandler(logHandler)\n"
      ],
      "metadata": {
        "colab": {
          "base_uri": "https://localhost:8080/",
          "height": 426
        },
        "id": "vpZ_oMA3q-08",
        "outputId": "05d85b07-1cc3-4bd4-ee12-786509e2bce4"
      },
      "execution_count": 37,
      "outputs": [
        {
          "output_type": "stream",
          "name": "stderr",
          "text": [
            "WARNING:root:This is a warning message\n",
            "ERROR:root:This is an error message\n",
            "CRITICAL:root:This is a critical message\n"
          ]
        },
        {
          "output_type": "error",
          "ename": "ModuleNotFoundError",
          "evalue": "ignored",
          "traceback": [
            "\u001b[0;31m---------------------------------------------------------------------------\u001b[0m",
            "\u001b[0;31mModuleNotFoundError\u001b[0m                       Traceback (most recent call last)",
            "\u001b[0;32m<ipython-input-37-6e7f0db679d5>\u001b[0m in \u001b[0;36m<module>\u001b[0;34m()\u001b[0m\n\u001b[1;32m     20\u001b[0m \u001b[0;34m\u001b[0m\u001b[0m\n\u001b[1;32m     21\u001b[0m \u001b[0;32mimport\u001b[0m \u001b[0mlogging\u001b[0m\u001b[0;34m\u001b[0m\u001b[0;34m\u001b[0m\u001b[0m\n\u001b[0;32m---> 22\u001b[0;31m \u001b[0;32mfrom\u001b[0m \u001b[0mpythonjsonlogger\u001b[0m \u001b[0;32mimport\u001b[0m \u001b[0mjsonlogger\u001b[0m\u001b[0;34m\u001b[0m\u001b[0;34m\u001b[0m\u001b[0m\n\u001b[0m\u001b[1;32m     23\u001b[0m \u001b[0;34m\u001b[0m\u001b[0m\n\u001b[1;32m     24\u001b[0m \u001b[0mlogger\u001b[0m \u001b[0;34m=\u001b[0m \u001b[0mlogging\u001b[0m\u001b[0;34m.\u001b[0m\u001b[0mgetLogger\u001b[0m\u001b[0;34m(\u001b[0m\u001b[0;34m)\u001b[0m\u001b[0;34m\u001b[0m\u001b[0;34m\u001b[0m\u001b[0m\n",
            "\u001b[0;31mModuleNotFoundError\u001b[0m: No module named 'pythonjsonlogger'",
            "",
            "\u001b[0;31m---------------------------------------------------------------------------\u001b[0;32m\nNOTE: If your import is failing due to a missing package, you can\nmanually install dependencies using either !pip or !apt.\n\nTo view examples of installing some common dependencies, click the\n\"Open Examples\" button below.\n\u001b[0;31m---------------------------------------------------------------------------\u001b[0m\n"
          ],
          "errorDetails": {
            "actions": [
              {
                "action": "open_url",
                "actionText": "Open Examples",
                "url": "/notebooks/snippets/importing_libraries.ipynb"
              }
            ]
          }
        }
      ]
    },
    {
      "cell_type": "markdown",
      "source": [
        "**JSON :**\n",
        "JSON stands for JavaScript Object Notation\n",
        "\n",
        "JSON is a text format for storing and transporting data\n",
        "\n",
        "JSON is \"self-describing\" and easy to understand\n",
        "JSON is a lightweight data-interchange format\n",
        "JSON is plain text written in JavaScript object notation\n",
        "JSON is used to send data between computers\n",
        "JSON is language independent \n",
        "Since the format is text only, JSON data can easily be sent between computers, and used by any programming language."
      ],
      "metadata": {
        "id": "txR9v9tws6kP"
      }
    },
    {
      "cell_type": "code",
      "source": [
        "#json\n",
        "import json\n",
        "\n",
        "person = {\"name\": \"John\", \"age\": 30, \"city\": \"New York\", \"hasChildren\": False, \"titles\": [\"engineer\", \"programmer\"]}\n",
        "person_json = json.dumps(person) # convert into JSON\n",
        "print(person_json) #  JSON string\n",
        "person_json2 = json.dumps(person, indent=4, separators=(\"; \", \"= \"), sort_keys=True)\n",
        "print(person_json2)\n",
        "\n",
        "with open('person.json', 'w') as f: #get converted in file \n",
        "    json.dump(person, f)\n",
        "\n",
        "with open('person.json', 'r') as f: #read jason file \n",
        "    person = json.load(f)\n",
        "    print(person)\n",
        "#from json to python\n",
        "person_json = \"\"\"\n",
        "{\n",
        "    \"age\": 30, \n",
        "    \"city\": \"New York\",\n",
        "    \"hasChildren\": false, \n",
        "    \"name\": \"John\",\n",
        "    \"titles\": [\n",
        "        \"engineer\",\n",
        "        \"programmer\"\n",
        "    ]\n",
        "}\n",
        "\"\"\"\n",
        "person = json.loads(person_json)\n",
        "print(person)\n",
        "\n"
      ],
      "metadata": {
        "colab": {
          "base_uri": "https://localhost:8080/"
        },
        "id": "AOwhc5r9tRTe",
        "outputId": "9c57b528-c0af-41ab-e24d-5ae9ae51eaf4"
      },
      "execution_count": 45,
      "outputs": [
        {
          "output_type": "stream",
          "name": "stdout",
          "text": [
            "{\"name\": \"John\", \"age\": 30, \"city\": \"New York\", \"hasChildren\": false, \"titles\": [\"engineer\", \"programmer\"]}\n",
            "{\n",
            "    \"age\"= 30; \n",
            "    \"city\"= \"New York\"; \n",
            "    \"hasChildren\"= false; \n",
            "    \"name\"= \"John\"; \n",
            "    \"titles\"= [\n",
            "        \"engineer\"; \n",
            "        \"programmer\"\n",
            "    ]\n",
            "}\n",
            "{'name': 'John', 'age': 30, 'city': 'New York', 'hasChildren': False, 'titles': ['engineer', 'programmer']}\n",
            "{'age': 30, 'city': 'New York', 'hasChildren': False, 'name': 'John', 'titles': ['engineer', 'programmer']}\n"
          ]
        }
      ]
    },
    {
      "cell_type": "markdown",
      "source": [
        "**RANDOM NUMBER :**\n",
        "Python defines a set of functions that are used to generate or manipulate random numbers through the random module. Functions in the random module rely on a pseudo-random number generator function random(), which generates a random float number between 0.0 and 1.0.\n",
        "These particular type of functions is used in a lot of games, lotteries, or any application requiring a random number generation."
      ],
      "metadata": {
        "id": "yOnUBLLSvR8o"
      }
    },
    {
      "cell_type": "code",
      "source": [
        "#random\n",
        "import random\n",
        "\n",
        "\n",
        "a = random.random() # float in [0,1)\n",
        "print(a)\n",
        "\n",
        "\n",
        "a = random.uniform(1,10) #  float in range [a,b]\n",
        "print(a)\n",
        "\n",
        "a = random.randint(1,10) # random integer in range [a,b]. b is included\n",
        "print(a)\n",
        "\n",
        "a = random.randrange(1,10) # random integer in range [a,b). b is excluded\n",
        "print(a)\n",
        "\n",
        "a = random.normalvariate(0, 1) # random float from a normal distribution with mu and sigma\n",
        "print(a)\n",
        "\n",
        "a = random.choice(list(\"ABCDEFGHI\")) # choose a random element from a sequence\n",
        "print(a)\n",
        "\n",
        "a = random.sample(list(\"ABCDEFGHI\"), 3) # choose k unique random elements from a sequence\n",
        "print(a)\n",
        "\n",
        "\n",
        "a = random.choices(list(\"ABCDEFGHI\"),k=3) # choose k elements with replacement, and return k sized list\n",
        "print(a)\n",
        "\n",
        "import secrets\n",
        "\n",
        "a = secrets.randbelow(10) # random integer in range [0, n).\n",
        "print(a)\n",
        "a = secrets.randbits(5) # return an integer with k random bits.\n",
        "print(a)"
      ],
      "metadata": {
        "colab": {
          "base_uri": "https://localhost:8080/"
        },
        "id": "RcGn4iSwvoZF",
        "outputId": "974a02ab-1615-4fac-a883-ed5c3a451b4d"
      },
      "execution_count": 47,
      "outputs": [
        {
          "output_type": "stream",
          "name": "stdout",
          "text": [
            "0.5121213179474651\n",
            "6.1954726188111\n",
            "10\n",
            "3\n",
            "0.15748766515444657\n",
            "I\n",
            "['F', 'B', 'I']\n",
            "['B', 'B', 'D']\n",
            "0\n",
            "6\n"
          ]
        }
      ]
    },
    {
      "cell_type": "markdown",
      "source": [
        "**DECORATORS :**\n",
        "Decorators are a very powerful and useful tool in Python since it allows programmers to modify the behaviour of function or class. Decorators allow us to wrap another function in order to extend the behaviour of the wrapped function, without permanently modifying it. "
      ],
      "metadata": {
        "id": "FKcm3AInw2iH"
      }
    },
    {
      "cell_type": "code",
      "source": [
        "#decorators\n",
        "#function decorators\n",
        "def start_end_decorator(func): # function has extended behaviour \n",
        "    \n",
        "    def wrapper():\n",
        "        print('Start')\n",
        "        func()\n",
        "        print('End')\n",
        "    return wrapper\n",
        "@start_end_decorator\n",
        "def print_name():\n",
        "    print('Alex')\n",
        "    \n",
        "\n",
        "\n",
        "#print_name = start_end_decorator(print_name)\n",
        "print_name()\n",
        "\n",
        "#function with arguments\n",
        "def start_end_decorator_3(func):\n",
        "    \n",
        "    def wrapper(*args, **kwargs):\n",
        "        print('Start')\n",
        "        result = func(*args, **kwargs)\n",
        "        print('End')\n",
        "        return result\n",
        "    return wrapper\n",
        "\n",
        "@start_end_decorator_3\n",
        "def add_5(x):\n",
        "    return x + 5\n",
        "\n",
        "result = add_5(10)\n",
        "print(result)\n",
        "\n",
        "\n",
        "\n",
        "#class decorators use maintain and update an status\n",
        "import functools\n",
        "\n",
        "class CountCalls:\n",
        "\n",
        "    def __init__(self, func):\n",
        "        functools.update_wrapper(self, func)\n",
        "        self.func = func\n",
        "        self.num_calls = 0\n",
        "    \n",
        "    def __call__(self, *args, **kwargs):\n",
        "        self.num_calls += 1\n",
        "        print(f\"Call {self.num_calls} of {self.func.__name__!r}\")\n",
        "        return self.func(*args, **kwargs)\n",
        "\n",
        "@CountCalls\n",
        "def say_hello(num):\n",
        "    print(\"Hello!\")\n",
        "    \n",
        "say_hello(5)\n",
        "say_hello(5)"
      ],
      "metadata": {
        "colab": {
          "base_uri": "https://localhost:8080/"
        },
        "id": "oNM1mXagxMw6",
        "outputId": "c9d33a97-fc2d-4fd6-a37d-f4c98177a099"
      },
      "execution_count": 56,
      "outputs": [
        {
          "output_type": "stream",
          "name": "stdout",
          "text": [
            "Start\n",
            "Alex\n",
            "End\n",
            "Start\n",
            "End\n",
            "15\n",
            "Call 1 of 'say_hello'\n",
            "Hello!\n",
            "Call 2 of 'say_hello'\n",
            "Hello!\n"
          ]
        }
      ]
    },
    {
      "cell_type": "markdown",
      "source": [
        "**GENERATORS :**\n",
        "A generator-function is defined like a normal function, but whenever it needs to generate a value, it does so with the yield keyword rather than return. If the body of a def contains yield, the function automatically becomes a generator function."
      ],
      "metadata": {
        "id": "kYV0WxYp0KXk"
      }
    },
    {
      "cell_type": "code",
      "source": [
        "#generators\n",
        "def countdown(num):\n",
        "    print('Starting')\n",
        "    while num > 0:\n",
        "        yield num\n",
        "        num -= 1\n",
        "\n",
        "# this will not print 'Starting'\n",
        "cd = countdown(3)\n",
        "print(next(cd))# this will print the first value\n",
        "print(next(cd)) # will print the next values\n",
        "print(next(cd))\n",
        "\n",
        "# this will raise a StopIteration\n",
        "#print(next(cd))\n",
        "#advantage: Generators save memory!\n",
        "\n",
        "def fibonacci(limit):\n",
        "    a, b = 0, 1 # first two fibonacci numbers\n",
        "    while a < limit:\n",
        "        yield a\n",
        "        a, b = b, a + b\n",
        "\n",
        "fib = fibonacci(30)\n",
        "\n",
        "print(list(fib)) # generator objects can be converted to a list "
      ],
      "metadata": {
        "colab": {
          "base_uri": "https://localhost:8080/"
        },
        "id": "6ijFLKnv0wKJ",
        "outputId": "01dc3618-6a51-4c82-b3d0-bbbbb5ed4495"
      },
      "execution_count": 59,
      "outputs": [
        {
          "output_type": "stream",
          "name": "stdout",
          "text": [
            "Starting\n",
            "3\n",
            "2\n",
            "1\n",
            "[0, 1, 1, 2, 3, 5, 8, 13, 21]\n"
          ]
        }
      ]
    },
    {
      "cell_type": "markdown",
      "source": [
        "**THREADING AND MULTIPROCESSING :**\n",
        "With threading, concurrency is achieved using multiple threads, but due to the GIL only one thread can be running at a time. In multiprocessing, the original process is forked process into multiple child processes bypassing the GIL. Each child process will have a copy of the entire program's memory.\n",
        "\n",
        "Process\n",
        "A Process is an instance of a program, e.g. a Python interpreter. They are independent from each other and do not share the same memory.\n",
        "\n",
        "Key facts:\n",
        "\n",
        "* A new process is started independently from the first process\n",
        "* Takes advantage of multiple CPUs and cores\n",
        "* Separate memory space\n",
        "* Memory is not shared between processes\n",
        "* One GIL (Global interpreter lock) for each process, i.e. avoids GIL limitation\n",
        "* Great for CPU-bound processing\n",
        "* Child processes are interruptable/killable\n",
        "* Starting a process is slower that starting a thread\n",
        "* Larger memory footprint\n",
        "* IPC (inter-process communication) is more complicated\n",
        "\n",
        "Threads\n",
        "A thread is an entity within a process that can be scheduled for execution (Also known as \"leightweight process\"). A Process can spawn multiple threads. The main difference is that all threads within a process share the same memory.\n",
        "\n",
        "Key facts:\n",
        "\n",
        "* Multiple threads can be spawned within one process\n",
        "* Memory is shared between all threads\n",
        "* Starting a thread is faster than starting a process\n",
        "* Great for I/O-bound tasks\n",
        "* Leightweight - low memory footprint\n",
        "* One GIL for all threads, i.e. threads are limited by GIL\n",
        "* Multithreading has no effect for CPU-bound tasks due to the GIL\n",
        "* Not interruptible/killable -> be careful with memory leaks\n",
        "* increased potential for race conditions"
      ],
      "metadata": {
        "id": "dDe7sUHI6eRp"
      }
    },
    {
      "cell_type": "code",
      "source": [
        "#threading\n",
        "from threading import Thread\n",
        "\n",
        "def square_numbers():\n",
        "    for i in range(1000):\n",
        "        result = i * i\n",
        "       \n",
        "if __name__ == \"__main__\":        \n",
        "    threads = []\n",
        "    num_threads = 10\n",
        "\n",
        "   \n",
        "    for i in range(num_threads):  # create threads and asign \n",
        "        thread = Thread(target=square_numbers)\n",
        "        threads.append(thread)\n",
        "\n",
        "    \n",
        "    for thread in threads: # start all threads\n",
        "        thread.start()\n",
        "\n",
        "   \n",
        "    for thread in threads:\n",
        "        thread.join()"
      ],
      "metadata": {
        "id": "zAWSmVoO7Zvl"
      },
      "execution_count": 60,
      "outputs": []
    },
    {
      "cell_type": "markdown",
      "source": [
        "**use Locks**\n",
        "\n",
        "**Race condition**\n",
        "A race condition happened here. A race condition occurs when two or more threads can access shared data and they try to change it at the same time. Because the thread scheduling algorithm can swap between threads at any time, you don't know the order in which the threads will attempt to access the shared data. In our case, the first thread accesses the database_value (0) and stores it in a local copy. It then increments it (local_copy is now 1). With our time.sleep() function that just simulates some time consuming operations, the programm will swap to the second thread in the meantime. This will also retrieve the current database_value (still 0) and increment the local_copy to 1. Now both threads have a local copy with value 1, so both will write the 1 into the global database_value. This is why the end value is 1 and not 2.\n",
        "\n",
        "**Avoid race conditions with Locks**\n",
        "\n",
        "A lock (also known as mutex) is a synchronization mechanism for enforcing limits on access to a resource in an environment where there are many threads of execution. A Lock has two states: locked and unlocked. If the state is locked, it does not allow other concurrent threads to enter this code section until the state is unlocked again.\n",
        "\n",
        "Two functions are important:\n",
        "\n",
        "lock.acquire() : This will lock the state and block\n",
        "lock.release() : This will unlock the state again.\n",
        "Important: You should always release the block again after it was acquired!\n"
      ],
      "metadata": {
        "id": "nCo_ILfB8EAc"
      }
    },
    {
      "cell_type": "code",
      "source": [
        "from threading import Thread, Lock\n",
        "import time\n",
        "\n",
        "\n",
        "database_value = 0\n",
        "\n",
        "def increase(lock):\n",
        "    global database_value \n",
        "    \n",
        "    lock.acquire()\n",
        "    \n",
        "    local_copy = database_value\n",
        "    local_copy += 1\n",
        "    time.sleep(0.1)\n",
        "    database_value = local_copy\n",
        "    \n",
        "    lock.release()\n",
        "\n",
        "\n",
        "if __name__ == \"__main__\":\n",
        "\n",
        "    \n",
        "    lock = Lock() # create a lock\n",
        "    \n",
        "    print('Start value: ', database_value)\n",
        "    t1 = Thread(target=increase, args=(lock,)) # notice the comma after lock since args must be a tuple\n",
        "    t2 = Thread(target=increase, args=(lock,))\n",
        "\n",
        "    t1.start()\n",
        "    t2.start()\n",
        "\n",
        "    t1.join()\n",
        "    t2.join()\n",
        "\n",
        "    print('End value:', database_value)\n",
        "\n",
        "    print('end main')"
      ],
      "metadata": {
        "colab": {
          "base_uri": "https://localhost:8080/"
        },
        "id": "pwaQMZVQ8dW2",
        "outputId": "aae660c0-9e60-4870-adbd-f4f8581fd193"
      },
      "execution_count": 61,
      "outputs": [
        {
          "output_type": "stream",
          "name": "stdout",
          "text": [
            "Start value:  0\n",
            "End value: 2\n",
            "end main\n"
          ]
        }
      ]
    },
    {
      "cell_type": "markdown",
      "source": [
        "**Using a queue in multithreading**\n",
        "\n",
        "Operations with a queue are thread-safe. Important methods are:\n",
        "\n",
        "* q.get() : Remove and return the first item. By default, it blocks until the item is available.\n",
        "* q.put(item) : Puts element at the end of the queue. By default, it blocks until a free slot is available.\n",
        "* q.task_done() : Indicate that a formerly enqueued task is complete. For each get() you should call this after you are done with your task for this item.\n",
        "* q.join() : Blocks until all items in the queue have been gotten and proccessed (task_done() has been called for each item).\n",
        "* q.empty() : Return True if the queue is empty.\n"
      ],
      "metadata": {
        "id": "mR8q7b4Q8uoh"
      }
    },
    {
      "cell_type": "code",
      "source": [
        "from threading import Thread, Lock, current_thread\n",
        "from queue import Queue\n",
        "\n",
        "def worker(q, lock):\n",
        "    while True:\n",
        "        value = q.get()\n",
        "        with lock:\n",
        "           \n",
        "            print(f\"in {current_thread().name} got {value}\")\n",
        "        \n",
        "        q.task_done() # If all tasks are done, q.join() can unblock\n",
        "\n",
        "\n",
        "if __name__ == '__main__':\n",
        "    q = Queue()\n",
        "    num_threads = 10\n",
        "    lock = Lock()\n",
        "\n",
        "    for i in range(num_threads):\n",
        "        t = Thread(name=f\"Thread{i+1}\", target=worker, args=(q, lock))\n",
        "        t.daemon = True  \n",
        "        t.start()\n",
        "    \n",
        "    for x in range(20): #adding element in queue\n",
        "        q.put(x)\n",
        "\n",
        "    q.join()  # Blocks until all items in the queue have been gotten and processed.\n",
        "\n",
        "    print('main done')"
      ],
      "metadata": {
        "colab": {
          "base_uri": "https://localhost:8080/"
        },
        "id": "P13Bl2Tc9DSO",
        "outputId": "7dd79d34-b7b2-45d7-d1e4-34ad7859b546"
      },
      "execution_count": 62,
      "outputs": [
        {
          "output_type": "stream",
          "name": "stdout",
          "text": [
            "in Thread1 got 0\n",
            "in Thread2 got 1\n",
            "in Thread2 got 11\n",
            "in Thread6 got 3\n",
            "in Thread6 got 13\n",
            "in Thread6 got 14\n",
            "in Thread6 got 15\n",
            "in Thread6 got 16\n",
            "in Thread6 got 17\n",
            "in Thread6 got 18\n",
            "in Thread6 got 19\n",
            "in Thread3 got 2\n",
            "in Thread2 got 12\n",
            "in Thread4 got 4\n",
            "in Thread9 got 7\n",
            "in Thread7 got 8\n",
            "in Thread8 got 6\n",
            "in Thread1 got 10\n",
            "in Thread5 got 5\n",
            "in Thread10 got 9\n",
            "main done\n"
          ]
        }
      ]
    },
    {
      "cell_type": "markdown",
      "source": [
        "**MULTIPROCESSING :**\n",
        "\n",
        "Multiprocessing refers to the ability of a system to support more than one processor at the same time. Applications in a multiprocessing system are broken to smaller routines that run independently. The operating system allocates these threads to the processors improving performance of the system.\n",
        "\n",
        "**Create and run processes**\n",
        "\n",
        "You create a process with multiprocessing.Process(). It takes two important arguments:\n",
        "\n",
        "* target: a callable object (function) for this process to be invoked when the process starts\n",
        "* args: the (function) arguments for the target function. This must be a tuple\n"
      ],
      "metadata": {
        "id": "a24ocmAV9rGA"
      }
    }
  ]
}