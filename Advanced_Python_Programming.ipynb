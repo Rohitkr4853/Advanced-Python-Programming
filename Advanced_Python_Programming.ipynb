{
  "nbformat": 4,
  "nbformat_minor": 0,
  "metadata": {
    "colab": {
      "name": "Advanced Python Programming.ipynb",
      "provenance": [],
      "collapsed_sections": [],
      "authorship_tag": "ABX9TyMfQqfkvCeEXvfSgGdg4dnG",
      "include_colab_link": true
    },
    "kernelspec": {
      "name": "python3",
      "display_name": "Python 3"
    },
    "language_info": {
      "name": "python"
    }
  },
  "cells": [
    {
      "cell_type": "markdown",
      "metadata": {
        "id": "view-in-github",
        "colab_type": "text"
      },
      "source": [
        "<a href=\"https://colab.research.google.com/github/Rohitkr4853/Advanced-Python-Programming/blob/main/Advanced_Python_Programming.ipynb\" target=\"_parent\"><img src=\"https://colab.research.google.com/assets/colab-badge.svg\" alt=\"Open In Colab\"/></a>"
      ]
    },
    {
      "cell_type": "markdown",
      "source": [
        "LIST:\n",
        "Lists in Python can be created by just placing the sequence inside the square brackets[].\n",
        "A list may contain duplicate values with their distinct positions and hence, multiple distinct or duplicate values can be passed as a sequence at the time of list creation.\n",
        "Elements can be added to the List by using the built-in append() function.\n",
        "In order to access the list items refer to the index number.\n",
        "In Python, negative sequence indexes represent positions from the end of the list. "
      ],
      "metadata": {
        "id": "zlGgkfA1PYi5"
      }
    },
    {
      "cell_type": "code",
      "source": [
        "#list \n",
        "x=[8,9,2,7]\n",
        "print(x)\n",
        "y=x.pop()\n",
        "z=x.remove(2)\n",
        "print(y)\n",
        "print(x)\n",
        "x.reverse()\n",
        "print(x)\n",
        "x.sort()\n",
        "print(x)\n",
        "new_list=[0]*5  #no. of times need to repeat\n",
        "print(new_list)\n",
        "mylist=[1,2,3,4,5,6,7,8,9]\n",
        "a=mylist[1:5]  #index from where we want to inert value \n",
        "print(a)\n",
        "b=mylist[::2] #take no. with gap of given value \n",
        "print(b)\n",
        "list_org=[2,8,9]\n",
        "list_cpy=list_org\n",
        "list_cpy.append(11)\n",
        "print(list_cpy)\n",
        "print(list_org) #give same output because they point on same address\n",
        "list_ch=[1,2,3,4,5]\n",
        "list_sq=[i*i for i in list_ch]\n",
        "print(list_ch)\n",
        "print(list_sq)"
      ],
      "metadata": {
        "colab": {
          "base_uri": "https://localhost:8080/"
        },
        "id": "-DDnssknP9Je",
        "outputId": "cc3fef17-0bb3-4efa-e844-01687e960f7c"
      },
      "execution_count": null,
      "outputs": [
        {
          "output_type": "stream",
          "name": "stdout",
          "text": [
            "[8, 9, 2, 7]\n",
            "7\n",
            "[8, 9]\n",
            "[9, 8]\n",
            "[8, 9]\n",
            "[0, 0, 0, 0, 0]\n",
            "[2, 3, 4, 5]\n",
            "[1, 3, 5, 7, 9]\n",
            "[2, 8, 9, 11]\n",
            "[2, 8, 9, 11]\n",
            "[1, 2, 3, 4, 5]\n",
            "[1, 4, 9, 16, 25]\n"
          ]
        }
      ]
    },
    {
      "cell_type": "markdown",
      "source": [
        "**TUPLE :** \n",
        "A Tuple is a collection of Python objects separated by commas.In someways a tuple is similar to a list in terms of indexing, nested objects and repetition but a tuple is immutable unlike lists which are mutable."
      ],
      "metadata": {
        "id": "lTHAeSegTfow"
      }
    },
    {
      "cell_type": "code",
      "source": [
        "#Tuple\n",
        "mytuple={} #created like this \n",
        "my_tuple={\"rohit\",48,\"hello\"}\n",
        "print(my_tuple)\n",
        "for i in my_tuple:\n",
        "  print(i)\n",
        "\n",
        "if \"rohit\" in my_tuple: #check \n",
        "  print(\"yes\")\n",
        "print(len(my_tuple)) #length"
      ],
      "metadata": {
        "colab": {
          "base_uri": "https://localhost:8080/"
        },
        "id": "-BeOokpGThlh",
        "outputId": "55a3632d-e2c8-4cb1-f3e9-10311b5de81a"
      },
      "execution_count": null,
      "outputs": [
        {
          "output_type": "stream",
          "name": "stdout",
          "text": [
            "{'rohit', 48, 'hello'}\n",
            "rohit\n",
            "48\n",
            "hello\n",
            "yes\n",
            "3\n"
          ]
        }
      ]
    }
  ]
}